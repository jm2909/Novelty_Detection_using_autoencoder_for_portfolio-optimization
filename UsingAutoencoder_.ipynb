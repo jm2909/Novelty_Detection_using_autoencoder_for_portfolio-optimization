{
 "cells": [
  {
   "cell_type": "code",
   "execution_count": 1,
   "metadata": {
    "collapsed": true
   },
   "outputs": [],
   "source": [
    "## Effiecient use of Autoencoder for novelty detection\n",
    "# Stacked Autoencoder so far gained a huge popularity in dimension reduction and novelty(outlier/unusual pattern) mapping.\n",
    "# dataset I will use is a glimpse of real world data that was live almost five years ago. \n",
    "# Main objective is to obtain the reconstruction error using stacked auto encoder."
   ]
  },
  {
   "cell_type": "code",
   "execution_count": 2,
   "metadata": {},
   "outputs": [
    {
     "name": "stderr",
     "output_type": "stream",
     "text": [
      "Using TensorFlow backend.\n"
     ]
    }
   ],
   "source": [
    "import numpy as np\n",
    "import pandas as pd\n",
    "from _ExpectationMaximization_ import SingleseriesGaussianMixture\n",
    "from keras.models import Sequential,Model\n",
    "from keras.layers import Dense\n",
    "import data_processing"
   ]
  },
  {
   "cell_type": "code",
   "execution_count": 3,
   "metadata": {
    "collapsed": true
   },
   "outputs": [],
   "source": [
    "# Here I am using two custom library ( _ExpectationMAximization_ and data_processing). Entire code of  _ExpectationMAximization_ is available on https://github.com/jm2909/Expectation_maximization "
   ]
  },
  {
   "cell_type": "code",
   "execution_count": 4,
   "metadata": {
    "collapsed": true
   },
   "outputs": [],
   "source": [
    "dataread = data_processing.Datareading(dataframe = 'dataset.csv')\n",
    "Independent_data,Response = dataread.dataprocessed()"
   ]
  },
  {
   "cell_type": "code",
   "execution_count": 5,
   "metadata": {},
   "outputs": [
    {
     "data": {
      "text/html": [
       "<div>\n",
       "<table border=\"1\" class=\"dataframe\">\n",
       "  <thead>\n",
       "    <tr style=\"text-align: right;\">\n",
       "      <th></th>\n",
       "      <th>Unnamed: 0</th>\n",
       "      <th>Shareholders_Funds</th>\n",
       "      <th>Secured_Loans</th>\n",
       "      <th>Debt___Loan_Funds</th>\n",
       "      <th>Liabilities</th>\n",
       "      <th>Sundry_Debtors</th>\n",
       "      <th>Inventories</th>\n",
       "      <th>Cash_and_Bank_Balance</th>\n",
       "      <th>Current_Assets</th>\n",
       "      <th>Current_Liabilities</th>\n",
       "      <th>Sales_Turnover___Operating_Incom</th>\n",
       "      <th>Net_Sales</th>\n",
       "      <th>Income</th>\n",
       "      <th>Operating_Profit</th>\n",
       "    </tr>\n",
       "  </thead>\n",
       "  <tbody>\n",
       "    <tr>\n",
       "      <th>0</th>\n",
       "      <td>0</td>\n",
       "      <td>8443.04</td>\n",
       "      <td>0.0</td>\n",
       "      <td>35.50</td>\n",
       "      <td>8598.40</td>\n",
       "      <td>484.35</td>\n",
       "      <td>1188.60</td>\n",
       "      <td>91.60</td>\n",
       "      <td>2169.50</td>\n",
       "      <td>3773.26</td>\n",
       "      <td>13240.71</td>\n",
       "      <td>11796.83</td>\n",
       "      <td>11916.13</td>\n",
       "      <td>1503.35</td>\n",
       "    </tr>\n",
       "    <tr>\n",
       "      <th>1</th>\n",
       "      <td>1</td>\n",
       "      <td>8235.61</td>\n",
       "      <td>0.0</td>\n",
       "      <td>0.00</td>\n",
       "      <td>8351.55</td>\n",
       "      <td>410.71</td>\n",
       "      <td>1255.59</td>\n",
       "      <td>304.30</td>\n",
       "      <td>2369.06</td>\n",
       "      <td>3784.21</td>\n",
       "      <td>13108.18</td>\n",
       "      <td>11738.21</td>\n",
       "      <td>12017.77</td>\n",
       "      <td>1775.54</td>\n",
       "    </tr>\n",
       "    <tr>\n",
       "      <th>2</th>\n",
       "      <td>2</td>\n",
       "      <td>7824.84</td>\n",
       "      <td>32.0</td>\n",
       "      <td>35.03</td>\n",
       "      <td>7966.01</td>\n",
       "      <td>397.22</td>\n",
       "      <td>1121.47</td>\n",
       "      <td>503.38</td>\n",
       "      <td>2400.93</td>\n",
       "      <td>3620.31</td>\n",
       "      <td>12471.74</td>\n",
       "      <td>11149.61</td>\n",
       "      <td>11428.75</td>\n",
       "      <td>1914.46</td>\n",
       "    </tr>\n",
       "    <tr>\n",
       "      <th>3</th>\n",
       "      <td>3</td>\n",
       "      <td>7382.80</td>\n",
       "      <td>157.0</td>\n",
       "      <td>163.06</td>\n",
       "      <td>8019.31</td>\n",
       "      <td>303.45</td>\n",
       "      <td>1133.55</td>\n",
       "      <td>678.38</td>\n",
       "      <td>2467.47</td>\n",
       "      <td>3390.00</td>\n",
       "      <td>12639.44</td>\n",
       "      <td>11357.96</td>\n",
       "      <td>11602.76</td>\n",
       "      <td>2125.02</td>\n",
       "    </tr>\n",
       "    <tr>\n",
       "      <th>4</th>\n",
       "      <td>4</td>\n",
       "      <td>7192.27</td>\n",
       "      <td>500.0</td>\n",
       "      <td>510.73</td>\n",
       "      <td>8198.32</td>\n",
       "      <td>187.74</td>\n",
       "      <td>1099.54</td>\n",
       "      <td>1652.56</td>\n",
       "      <td>3287.16</td>\n",
       "      <td>3272.61</td>\n",
       "      <td>10700.02</td>\n",
       "      <td>9660.29</td>\n",
       "      <td>9946.59</td>\n",
       "      <td>2112.63</td>\n",
       "    </tr>\n",
       "  </tbody>\n",
       "</table>\n",
       "</div>"
      ],
      "text/plain": [
       "   Unnamed: 0  Shareholders_Funds  Secured_Loans  Debt___Loan_Funds  \\\n",
       "0           0             8443.04            0.0              35.50   \n",
       "1           1             8235.61            0.0               0.00   \n",
       "2           2             7824.84           32.0              35.03   \n",
       "3           3             7382.80          157.0             163.06   \n",
       "4           4             7192.27          500.0             510.73   \n",
       "\n",
       "   Liabilities  Sundry_Debtors  Inventories  Cash_and_Bank_Balance  \\\n",
       "0      8598.40          484.35      1188.60                  91.60   \n",
       "1      8351.55          410.71      1255.59                 304.30   \n",
       "2      7966.01          397.22      1121.47                 503.38   \n",
       "3      8019.31          303.45      1133.55                 678.38   \n",
       "4      8198.32          187.74      1099.54                1652.56   \n",
       "\n",
       "   Current_Assets  Current_Liabilities  Sales_Turnover___Operating_Incom  \\\n",
       "0         2169.50              3773.26                          13240.71   \n",
       "1         2369.06              3784.21                          13108.18   \n",
       "2         2400.93              3620.31                          12471.74   \n",
       "3         2467.47              3390.00                          12639.44   \n",
       "4         3287.16              3272.61                          10700.02   \n",
       "\n",
       "   Net_Sales    Income  Operating_Profit  \n",
       "0   11796.83  11916.13           1503.35  \n",
       "1   11738.21  12017.77           1775.54  \n",
       "2   11149.61  11428.75           1914.46  \n",
       "3   11357.96  11602.76           2125.02  \n",
       "4    9660.29   9946.59           2112.63  "
      ]
     },
     "execution_count": 5,
     "metadata": {},
     "output_type": "execute_result"
    }
   ],
   "source": [
    "Independent_data.head(5)"
   ]
  },
  {
   "cell_type": "code",
   "execution_count": 6,
   "metadata": {},
   "outputs": [
    {
     "data": {
      "text/plain": [
       "0    0\n",
       "1    0\n",
       "2    0\n",
       "3    0\n",
       "4    0\n",
       "Name: Rating, dtype: int64"
      ]
     },
     "execution_count": 6,
     "metadata": {},
     "output_type": "execute_result"
    }
   ],
   "source": [
    "Response.head(5)"
   ]
  },
  {
   "cell_type": "code",
   "execution_count": 8,
   "metadata": {},
   "outputs": [
    {
     "data": {
      "text/plain": [
       "0    5073\n",
       "1     605\n",
       "Name: Rating, dtype: int64"
      ]
     },
     "execution_count": 8,
     "metadata": {},
     "output_type": "execute_result"
    }
   ],
   "source": [
    "Response.astype(object).value_counts()"
   ]
  },
  {
   "cell_type": "code",
   "execution_count": 9,
   "metadata": {
    "collapsed": true
   },
   "outputs": [],
   "source": [
    "scaler,Xind  = data_processing.__Processing__(df = Independent_data,process='min-max')\n"
   ]
  },
  {
   "cell_type": "code",
   "execution_count": 10,
   "metadata": {},
   "outputs": [
    {
     "data": {
      "text/plain": [
       "array([[  0.00000000e+00,   8.44035463e-02,   0.00000000e+00,\n",
       "          7.76475734e-05,   2.35309258e-02,   1.65677595e-02,\n",
       "          1.83312544e-02,   1.84915258e-03,   1.71414480e-02,\n",
       "          3.94041229e-02,   2.63142874e-02,   2.46140780e-02,\n",
       "          2.49297844e-02,   8.97226191e-02],\n",
       "       [  1.76149375e-04,   8.35840012e-02,   0.00000000e+00,\n",
       "          0.00000000e+00,   2.30505344e-02,   1.40488170e-02,\n",
       "          1.93644116e-02,   6.14204447e-03,   1.87181926e-02,\n",
       "          3.95184737e-02,   2.60509003e-02,   2.44917674e-02,\n",
       "          2.51390123e-02,   9.50835235e-02],\n",
       "       [  3.52298749e-04,   8.19610704e-02,   3.09318131e-04,\n",
       "          7.66195632e-05,   2.23002404e-02,   1.35873757e-02,\n",
       "          1.72959379e-02,   1.01600460e-02,   1.89700008e-02,\n",
       "          3.78068673e-02,   2.47860539e-02,   2.32636539e-02,\n",
       "          2.39265031e-02,   9.78196153e-02],\n",
       "       [  5.28448124e-04,   8.02145934e-02,   1.51759208e-03,\n",
       "          3.56653896e-04,   2.24039668e-02,   1.03798630e-02,\n",
       "          1.74822425e-02,   1.36920444e-02,   1.94957404e-02,\n",
       "          3.54017419e-02,   2.51193370e-02,   2.36983760e-02,\n",
       "          2.42847061e-02,   1.01966689e-01],\n",
       "       [  7.04597499e-04,   7.94618193e-02,   4.83309580e-03,\n",
       "          1.11709705e-03,   2.27523357e-02,   6.42186677e-03,\n",
       "          1.69577212e-02,   3.33537718e-02,   2.59721974e-02,\n",
       "          3.41758391e-02,   2.12649776e-02,   2.01561887e-02,\n",
       "          2.08754476e-02,   1.01722662e-01]])"
      ]
     },
     "execution_count": 10,
     "metadata": {},
     "output_type": "execute_result"
    }
   ],
   "source": [
    "Xind[:5]"
   ]
  },
  {
   "cell_type": "code",
   "execution_count": 11,
   "metadata": {
    "collapsed": true
   },
   "outputs": [],
   "source": [
    "# simple min-max preprocessing I have done above."
   ]
  },
  {
   "cell_type": "code",
   "execution_count": 12,
   "metadata": {
    "collapsed": true
   },
   "outputs": [],
   "source": [
    "# I have made it a stacked encoder, comprised of two relu layers of 10 and 5 respectively.\n",
    "# Defining parameters\n",
    "batch_size = 17\n",
    "nb_epochs  =10\n",
    "hidden_dim1 = 10\n",
    "hidden_dim2 = 5"
   ]
  },
  {
   "cell_type": "code",
   "execution_count": 13,
   "metadata": {
    "collapsed": true
   },
   "outputs": [],
   "source": [
    "# Creating Model\n",
    "model = Sequential()\n",
    "model.add(Dense(hidden_dim1,input_dim = Xind.shape[1],activation = 'relu',name= 'Encoder1'))\n",
    "model.add(Dense(hidden_dim2,activation = 'relu',name= 'Encoder2'))\n",
    "model.add(Dense(Xind.shape[1], activation= 'sigmoid',name = 'Decoder'))\n",
    "model.compile(loss='mean_squared_error', optimizer='adadelta')\n"
   ]
  },
  {
   "cell_type": "code",
   "execution_count": 14,
   "metadata": {},
   "outputs": [
    {
     "name": "stdout",
     "output_type": "stream",
     "text": [
      "Epoch 1/10\n",
      "0s - loss: 0.1133\n",
      "Epoch 2/10\n",
      "0s - loss: 0.0081\n",
      "Epoch 3/10\n",
      "0s - loss: 0.0058\n",
      "Epoch 4/10\n",
      "0s - loss: 0.0043\n",
      "Epoch 5/10\n",
      "0s - loss: 0.0031\n",
      "Epoch 6/10\n",
      "0s - loss: 0.0024\n",
      "Epoch 7/10\n",
      "0s - loss: 0.0021\n",
      "Epoch 8/10\n",
      "0s - loss: 0.0020\n",
      "Epoch 9/10\n",
      "0s - loss: 0.0020\n",
      "Epoch 10/10\n",
      "0s - loss: 0.0020\n"
     ]
    },
    {
     "data": {
      "text/plain": [
       "<keras.callbacks.History at 0x7ffa92d84910>"
      ]
     },
     "execution_count": 14,
     "metadata": {},
     "output_type": "execute_result"
    }
   ],
   "source": [
    "# fitting model\n",
    "model.fit(Xind,Xind,epochs=nb_epochs,batch_size=batch_size,verbose = 2)"
   ]
  },
  {
   "cell_type": "code",
   "execution_count": 15,
   "metadata": {
    "collapsed": true
   },
   "outputs": [],
   "source": [
    "# slight overfitting thoough after epoch 8 but for experiment we can ignore it for now.\n",
    "# i have used relu just because of kind of normalizer I have used and of course fast learning."
   ]
  },
  {
   "cell_type": "code",
   "execution_count": 16,
   "metadata": {
    "collapsed": true
   },
   "outputs": [],
   "source": [
    "#Let's have prediction and reconstruction error\n",
    "predict = model.predict(Xind, batch_size=17)\n",
    "Anomaly = predict - Xind"
   ]
  },
  {
   "cell_type": "code",
   "execution_count": 17,
   "metadata": {},
   "outputs": [
    {
     "data": {
      "text/plain": [
       "array([[ 0.0799773 ,  0.00015037,  0.00774089,  0.00954829, -0.0118004 ,\n",
       "         0.00016575, -0.00740168,  0.01532422, -0.00369491, -0.03452536,\n",
       "        -0.01774482, -0.0150985 , -0.00204436, -0.02740159],\n",
       "       [ 0.08028117,  0.00065877,  0.00766733,  0.00954379, -0.01140103,\n",
       "         0.00253712, -0.00851564,  0.01084851, -0.00536764, -0.03467328,\n",
       "        -0.01753812, -0.01504242, -0.00249716, -0.03288969],\n",
       "       [ 0.08055019,  0.00205136,  0.00730601,  0.00940962, -0.01070995,\n",
       "         0.00288927, -0.00650446,  0.00668821, -0.00569388, -0.03298363,\n",
       "        -0.01630913, -0.01386653, -0.00146656, -0.03571717],\n",
       "       [ 0.08104959,  0.0036576 ,  0.00606149,  0.00909128, -0.01084558,\n",
       "         0.00601335, -0.00672454,  0.00303613, -0.00626426, -0.0305861 ,\n",
       "        -0.01665807, -0.01432835, -0.00198833, -0.0398465 ],\n",
       "       [ 0.0807895 ,  0.00371376,  0.00260752,  0.0081709 , -0.01138633,\n",
       "         0.0097055 , -0.00637542, -0.01692952, -0.01296663, -0.02944651,\n",
       "        -0.01293292, -0.01095988,  0.00106889, -0.0401444 ]])"
      ]
     },
     "execution_count": 17,
     "metadata": {},
     "output_type": "execute_result"
    }
   ],
   "source": [
    "Anomaly[:5]"
   ]
  },
  {
   "cell_type": "code",
   "execution_count": 18,
   "metadata": {
    "collapsed": true
   },
   "outputs": [],
   "source": [
    "# My next objective was to study the distribution of mean(recontruction) of each row.\n",
    "# If any particular attribute is far towards natural then mean value must deviate from normal.\n",
    "# although it is a perfect scenario to apply Multivariate Gaussian Cluster, but for simplicity I have used univariate here."
   ]
  },
  {
   "cell_type": "code",
   "execution_count": 19,
   "metadata": {
    "collapsed": true
   },
   "outputs": [],
   "source": [
    "# suppose I want to have 8 clusters\n",
    "# i.e. making assumption that series is mixed up of 8 distinc distribution (assuming normal for our case)\n",
    "n_cluster = 8\n",
    "em = SingleseriesGaussianMixture(np.mean(Anomaly,1),n_cluster)\n",
    "# mu_array and sigma_array will be mean and sigma of respective univariate normal distribution\n",
    "# Sum_array is the sum  explained in each cluster\n",
    "# Count is the count of observation in each cluster\n",
    "#sumsq is the sum_of_square explained in each cluster.\n",
    "# lables is the fitted cluster labels.\n",
    "mu_array, sigma_array, sum_array, count, sumsq,labels = em.__EM__()\n"
   ]
  },
  {
   "cell_type": "code",
   "execution_count": 20,
   "metadata": {},
   "outputs": [
    {
     "data": {
      "text/plain": [
       "array([-0.00078031,  0.00252016,  0.01048909, -0.1189585 , -0.00802826,\n",
       "       -0.08387662, -0.07372571, -0.0924562 ])"
      ]
     },
     "execution_count": 20,
     "metadata": {},
     "output_type": "execute_result"
    }
   ],
   "source": [
    "mu_array"
   ]
  },
  {
   "cell_type": "code",
   "execution_count": 21,
   "metadata": {},
   "outputs": [
    {
     "data": {
      "text/plain": [
       "array([ 0.00110098,  0.00206457,  0.00331361,  0.11616115,  0.00603722,\n",
       "        0.0004205 ,  0.00488365,  0.00485236])"
      ]
     },
     "execution_count": 21,
     "metadata": {},
     "output_type": "execute_result"
    }
   ],
   "source": [
    "sigma_array"
   ]
  },
  {
   "cell_type": "code",
   "execution_count": 22,
   "metadata": {
    "collapsed": true
   },
   "outputs": [],
   "source": [
    "# Next objective was to check how many Default and Non-Default are covered by each cluster."
   ]
  },
  {
   "cell_type": "code",
   "execution_count": 23,
   "metadata": {},
   "outputs": [
    {
     "name": "stdout",
     "output_type": "stream",
     "text": [
      "       Mean     Sigma  Odds   Count\n",
      "3 -0.118958  0.116161  41.0   212.0\n",
      "7 -0.092456  0.004852  19.0    20.0\n",
      "5 -0.083877  0.000420   4.0     5.0\n",
      "6 -0.073726  0.004884  29.0    30.0\n",
      "4 -0.008028  0.006037   7.0   825.0\n",
      "0 -0.000780  0.001101   9.0   717.0\n",
      "1  0.002520  0.002065   7.0  2995.0\n",
      "2  0.010489  0.003314  10.0   877.0\n"
     ]
    },
    {
     "name": "stderr",
     "output_type": "stream",
     "text": [
      "/usr/local/lib/python2.7/dist-packages/ipykernel_launcher.py:4: FutureWarning: icol(i) is deprecated. Please use .iloc[:,i]\n",
      "  after removing the cwd from sys.path.\n",
      "/usr/local/lib/python2.7/dist-packages/ipykernel_launcher.py:7: FutureWarning: icol(i) is deprecated. Please use .iloc[:,i]\n",
      "  import sys\n",
      "/usr/local/lib/python2.7/dist-packages/ipykernel_launcher.py:11: FutureWarning: icol(i) is deprecated. Please use .iloc[:,i]\n",
      "  # This is added back by InteractiveShellApp.init_path()\n",
      "/usr/local/lib/python2.7/dist-packages/ipykernel_launcher.py:12: FutureWarning: icol(i) is deprecated. Please use .iloc[:,i]\n",
      "  if sys.path[0] == '':\n",
      "/usr/local/lib/python2.7/dist-packages/ipykernel_launcher.py:5: FutureWarning: icol(i) is deprecated. Please use .iloc[:,i]\n",
      "  \"\"\"\n",
      "/usr/local/lib/python2.7/dist-packages/ipykernel_launcher.py:20: FutureWarning: sort(columns=....) is deprecated, use sort_values(by=.....)\n"
     ]
    }
   ],
   "source": [
    "rate= []\n",
    "c= []\n",
    "for  i in range(0,n_cluster):\n",
    "    if len(Response.loc[labels.icol(0) == i].astype(object).value_counts().index) == 1 and (Response.loc[labels.icol(0) == i].astype(object).value_counts().index[0] == 0):\n",
    "        zero = Response.loc[labels.icol(0) == i].astype(object).value_counts()[0]\n",
    "        one =1\n",
    "    elif len(Response.loc[labels.icol(0) == i].astype(object).value_counts().index) == 1 and (Response.loc[labels.icol(0) == i].astype(object).value_counts().index[0] == 1):\n",
    "        one = Response.loc[labels.icol(0) == i].astype(object).value_counts()[0]\n",
    "        zero =1\n",
    "    else:\n",
    "        zero = Response.loc[labels.icol(0) == i].astype(object).value_counts()[0]\n",
    "        one = Response.loc[labels.icol(0) == i].astype(object).value_counts()[1]\n",
    "    ratio = zero/one\n",
    "    rate.append(ratio)\n",
    "    c.append(zero+one)\n",
    "\n",
    "\n",
    "\n",
    "Report_Reconstruction_Error=pd.DataFrame(np.transpose(np.vstack((mu_array,sigma_array,np.array(rate),np.array(c)))),columns  = ['Mean','Sigma','Odds','Count'])\n",
    "Report_Reconstruction_Error =Report_Reconstruction_Error.sort(['Mean'])\n",
    "\n",
    "print(Report_Reconstruction_Error)"
   ]
  },
  {
   "cell_type": "code",
   "execution_count": 24,
   "metadata": {
    "collapsed": true
   },
   "outputs": [],
   "source": [
    "## that's interesting. before explaining let me define Odds. Odds is nothing but  count of zero / count of one\n",
    "## I have sorted it, so rows are not arranged. \n",
    "## In group 7, ratio of Non-default: default is 19 against 1, same for group 5 and 6 are 4 against 1 and 29 against 1 approxminately."
   ]
  },
  {
   "cell_type": "code",
   "execution_count": null,
   "metadata": {
    "collapsed": true
   },
   "outputs": [],
   "source": [
    "# And for group 3 we have approximately 5 defaults and 205 non-defaults. \n",
    "# If we apply logistic regression then these observation during training will affect the analysis\n",
    "# beacuse it seems like they are not actually 1, may be thought as an outlier of zero or rare pattern.\n",
    "# Thus helps to detect important observations."
   ]
  }
 ],
 "metadata": {
  "kernelspec": {
   "display_name": "Python 2",
   "language": "python",
   "name": "python2"
  },
  "language_info": {
   "codemirror_mode": {
    "name": "ipython",
    "version": 2
   },
   "file_extension": ".py",
   "mimetype": "text/x-python",
   "name": "python",
   "nbconvert_exporter": "python",
   "pygments_lexer": "ipython2",
   "version": "2.7.12"
  }
 },
 "nbformat": 4,
 "nbformat_minor": 2
}
